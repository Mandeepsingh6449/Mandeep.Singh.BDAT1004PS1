{
 "cells": [
  {
   "cell_type": "markdown",
   "id": "2b528eff",
   "metadata": {},
   "source": [
    "# Question 1 C#\n",
    "What data type is each of the following?"
   ]
  },
  {
   "cell_type": "code",
   "execution_count": null,
   "id": "136ccdb9",
   "metadata": {},
   "outputs": [],
   "source": [
    "5      : Integer\n",
    "5.0    : Float\n",
    "5 > 1  : Boolean\n",
    "'5'    : Character\n",
    "5 * 2  : Integer\n",
    "'5' * 2: Integer\n",
    "'5' + '2': String\n",
    "5 / 2  : Float\n",
    "5 % 2  : Float\n",
    "{5, 2, 1} : Array\n",
    "5 == 3 : Boolean\n",
    "Pi (the number): Double"
   ]
  },
  {
   "cell_type": "markdown",
   "id": "f050c7a0",
   "metadata": {},
   "source": [
    "# Question 2 C#\n",
    "Write (and evaluate) C# expressions that answer these questions:\n",
    "a. How many letters are there in 'Supercalifragilisticexpialidocious'?"
   ]
  },
  {
   "cell_type": "code",
   "execution_count": 3,
   "id": "26727636",
   "metadata": {},
   "outputs": [
    {
     "name": "stdout",
     "output_type": "stream",
     "text": [
      "Number of Character is 34\r\n"
     ]
    }
   ],
   "source": [
    "//Answer 2 A:\n",
    "String s=\"Supercalifragilisticexpialidocious\";\n",
    "int count=0;\n",
    "foreach(char c in s) //looking each character in the String\n",
    "{\n",
    "  count=count+1;  //Counting the characters\n",
    "}\n",
    "Console.WriteLine(\"Number of Character is \"+count);\n"
   ]
  },
  {
   "cell_type": "markdown",
   "id": "df6a02ef",
   "metadata": {},
   "source": [
    "# Question 2 b. \n",
    "Does 'Supercalifragilisticexpialidocious' contain 'ice' as a substring? "
   ]
  },
  {
   "cell_type": "code",
   "execution_count": 45,
   "id": "2f2860cf",
   "metadata": {
    "scrolled": true
   },
   "outputs": [
    {
     "data": {
      "text/html": [
       "<div class=\"dni-plaintext\">True</div>"
      ]
     },
     "execution_count": 45,
     "metadata": {},
     "output_type": "execute_result"
    }
   ],
   "source": [
    "//Answer 2 B:\n",
    "string s=\"Supercalifragilisticexpialidocious\";   //Given String\n",
    "s.Contains(\"ice\")          //checking the substring in the string"
   ]
  },
  {
   "cell_type": "markdown",
   "id": "45ac30c1",
   "metadata": {},
   "source": [
    "# Question 2 c.\n",
    "Which of the following words is the longest:\n",
    "Supercalifragilisticexpialidocious, Honorificabilitudinitatibus, or\n",
    "Bababadalgharaghtakamminarronnkonn? "
   ]
  },
  {
   "cell_type": "code",
   "execution_count": 4,
   "id": "ceedbe0c",
   "metadata": {},
   "outputs": [
    {
     "name": "stdout",
     "output_type": "stream",
     "text": [
      "Supercalifragilisticexpialidocious is the greatest word  34\r\n"
     ]
    }
   ],
   "source": [
    "//Answer 2 C:\n",
    "string a=\"Supercalifragilisticexpialidocious\";\n",
    "string b=\"Honorificabilitudinitatibus\";\n",
    "string c=\"Bababadalgharaghtakamminarronnkonn\"; // Given Strings\n",
    "int count1=0,count2=0,count3=0;\n",
    "foreach(char x in a)\n",
    "{ \n",
    " count1=count1+1;                //calculating number of characters\n",
    "}\n",
    "foreach(char x in b)\n",
    "{ \n",
    " count2=count2+1;\n",
    "}\n",
    "foreach(char x in c)\n",
    "{ \n",
    " count3=count3+1;\n",
    "}\n",
    "if(count1>=count2)                // checking which one is greater using if else statements\n",
    "{\n",
    " if(count1>=count3)\n",
    " {\n",
    " Console.WriteLine(\"Supercalifragilisticexpialidocious is the greatest word \"+ \" \"+count1);\n",
    " }\n",
    " else\n",
    " {\n",
    "  Console.WriteLine(\"Bababadalgharaghtakamminarronnkonn is the greatest word\"+\" \"+ count3);\n",
    " }\n",
    "}\n",
    "else\n",
    "{\n",
    " Console.WriteLine(\"Honorificabilitudinitatibus is the greatest word\"+ count2);\n",
    "}\n",
    "\n",
    "\n"
   ]
  },
  {
   "cell_type": "markdown",
   "id": "eb236bba",
   "metadata": {},
   "source": [
    "# Question 2 d.\n",
    "Which composer comes first in the dictionary: 'Berlioz', 'Borodin', 'Brian',\n",
    "'Bartok', 'Bellini', 'Buxtehude', 'Bernstein'. Which one comes last?\n"
   ]
  },
  {
   "cell_type": "code",
   "execution_count": 15,
   "id": "bdd96bb9",
   "metadata": {
    "scrolled": true
   },
   "outputs": [
    {
     "name": "stdout",
     "output_type": "stream",
     "text": [
      "First comes: Bartok\n",
      "Last comes: Buxtehude\n"
     ]
    }
   ],
   "source": [
    "//Answer 2 D: \n",
    "var sorting=new List<string>();  //creating a list \n",
    "sorting.Add(\"Berlioz\");\n",
    "sorting.Add(\"Borodin\");\n",
    "sorting.Add(\"Brian\");           //adding names in the list\n",
    "sorting.Add(\"Bartok\");\n",
    "sorting.Add(\"Bellini\");\n",
    "sorting.Add(\"Buxtehude\");\n",
    "sorting.Add(\"Bernstein\");\n",
    "sorting.Sort();                //sorting the list using Sort()\n",
    "Console.WriteLine(\"First comes: \"+sorting[0]);   //Output\n",
    "Console.WriteLine(\"Last comes: \"+sorting[6]);\n"
   ]
  },
  {
   "cell_type": "markdown",
   "id": "bc219bc5",
   "metadata": {},
   "source": [
    "# Question 3 C#\n",
    "Implement function triangleArea(a,b,c) that takes as input the lengths of the 3\n",
    "sides of a triangle and returns the area of the triangle. By Heron's formula, the area\n",
    "of a triangle with side lengths a, b, and c is\n",
    "s(s - a)(s -b)(s -c)\n",
    ", where\n",
    "s = (a+b+c)/2.\n",
    ">>> triangleArea(2,2,2)\n",
    "1.7320508075688772"
   ]
  },
  {
   "cell_type": "code",
   "execution_count": 36,
   "id": "a44b13e8",
   "metadata": {},
   "outputs": [
    {
     "name": "stdout",
     "output_type": "stream",
     "text": [
      "Area of Triangle is 1.7320508075688772\r\n"
     ]
    }
   ],
   "source": [
    "//Answer 3:\n",
    "class Area{\n",
    "public void triangleArea(int a,int b,int c)   //decalaring class\n",
    "{\n",
    " int s=(a+b+c)/2;               //Formulas for calculating the area\n",
    " int area=s*(s-a)*(s-b)*(s-c);\n",
    " Console.WriteLine(\"Area of Triangle is\"+\" \"+Math.Sqrt(area));\n",
    "}\n",
    "}\n",
    "Area ar=new Area();           //Creating 'ar'object in the class Area\n",
    "ar.triangleArea(2,2,2);       //passing values in triangleArea function\n",
    "\n"
   ]
  },
  {
   "cell_type": "markdown",
   "id": "8811aef4",
   "metadata": {},
   "source": [
    "# Question 4 C#\n",
    "Write a program in C# Sharp to separate odd and even integers in separate arrays.\n",
    "Go to the editor\n",
    "Test Data :\n",
    "Input the number of elements to be stored in the array :5\n",
    "Input 5 elements in the array :\n",
    "element - 0 : 25\n",
    "element - 1 : 47\n",
    "element - 2 : 42\n",
    "element - 3 : 56\n",
    "element - 4 : 32\n",
    "Expected Output:\n",
    "The Even elements are:\n",
    "42 56 32\n",
    "The Odd elements are :\n",
    "25 47"
   ]
  },
  {
   "cell_type": "code",
   "execution_count": 19,
   "id": "ab94c44f",
   "metadata": {},
   "outputs": [
    {
     "name": "stdout",
     "output_type": "stream",
     "text": [
      "The Even Numbers are:\n",
      "42\n",
      "\n",
      "56\n",
      "\n",
      "32\n",
      "\n",
      "The Odd Numbers are:\n",
      "25\n",
      "\n",
      "47\n",
      "\n"
     ]
    }
   ],
   "source": [
    "//Answer 4:\n",
    "int [] a={25,47,42,56,32};    //given array\n",
    "int [] arr1=new int[10];      //creating array\n",
    "int [] arr2= new int[10];\n",
    "int c=0,d=0;                  \n",
    "for(int i=0;i<5;i++)\n",
    "{\n",
    "   if(a[i]%2==0)              //for even values\n",
    "   {\n",
    "     arr1[c]=a[i];\n",
    "       c++;\n",
    "   }\n",
    "   else                       //for odd values\n",
    "   {\n",
    "     arr2[d]=a[i];\n",
    "       d++;\n",
    "   }  \n",
    "}\n",
    "Console.WriteLine(\"The Even Numbers are:\");\n",
    "for(int m=0;m<c;m++)\n",
    "{\n",
    "    Console.WriteLine(arr1[m]+\"\\n\");   //output\n",
    "}\n",
    "Console.WriteLine(\"The Odd Numbers are:\");\n",
    "for(int n=0;n<d;n++)\n",
    "{\n",
    "    Console.WriteLine(arr2[n]+\"\\n\");\n",
    "}\n"
   ]
  },
  {
   "cell_type": "markdown",
   "id": "bb56ffe5",
   "metadata": {},
   "source": [
    "# Question 5 C#\n",
    "a. Write a function inside(x,y,x1,y1,x2,y2) that returns True or False\n",
    "depending on whether the point (x,y) lies in the rectangle with lower left\n",
    "corner (x1,y1) and upper right corner (x2,y2).\n",
    ">>> inside(1,1,0,0,2,3)\n",
    "True\n",
    ">>> inside(-1,-1,0,0,2,3)\n",
    "False\n",
    "b. Use function inside() from part a. to write an expression that tests whether\n",
    "the point (1,1) lies in both of the following rectangles: one with lower left\n",
    "corner (0.3, 0.5) and upper right corner (1.1, 0.7) and the other with lower\n",
    "left corner (0.5, 0.2) and upper right corner (1.1, 2). \n"
   ]
  },
  {
   "cell_type": "code",
   "execution_count": 16,
   "id": "b70a0ac5",
   "metadata": {
    "scrolled": true
   },
   "outputs": [
    {
     "name": "stdout",
     "output_type": "stream",
     "text": [
      "True\n",
      "False\n",
      "False\n",
      "True\n"
     ]
    }
   ],
   "source": [
    "//Answer 5:\n",
    "public class rectangle\n",
    "{\n",
    "  public void inside(double x,double y,double x1,double y1, double x2,double y2)\n",
    "  {\n",
    "    if ((x > x1)&&(x < x2)&&(y> y1)&&(y< y2))     //checking points lie in the rectangle\n",
    "    {\n",
    "        Console.WriteLine(\"True\");\n",
    "    }\n",
    "    else\n",
    "    {\n",
    "       Console.WriteLine(\"False\");\n",
    "    }\n",
    "  }\n",
    "}\n",
    "rectangle r= new rectangle();\n",
    "r.inside(1,1,0,0,2,3);\n",
    "r.inside(-1,-1,0,0,2,3);                           //passing values\n",
    "r.inside(1,1,0.3,0.5,1.1,0.7);\n",
    "r.inside(1,1,0.5,0.2,1.1,2);"
   ]
  },
  {
   "cell_type": "markdown",
   "id": "85d38c60",
   "metadata": {},
   "source": [
    "# Question 6 Python\n",
    "16. You can turn a word into pig-Latin using the following two rules (simplified):\n",
    "• If the word starts with a consonant, move that letter to the end and append\n",
    "'ay'. For example, 'happy' becomes 'appyhay' and 'pencil' becomes 'encilpay'.\n",
    "• If the word starts with a vowel, simply append 'way' to the end of the word.\n",
    "For example, 'enter' becomes 'enterway' and 'other' becomes 'otherway' . For\n",
    "our purposes, there are 5 vowels: a, e, i, o, u (so we count y as a consonant).\n",
    "Write a function pig() that takes a word (i.e., a string) as input and returns its pigLatin form. Your function should still work if the input word contains upper case\n",
    "characters. Your output should always be lower case however.\n",
    ">>> pig('happy')\n",
    "'appyhay'\n",
    ">>> pig('Enter')\n",
    "'enterway'"
   ]
  },
  {
   "cell_type": "code",
   "execution_count": 4,
   "id": "226abdae",
   "metadata": {},
   "outputs": [
    {
     "name": "stdout",
     "output_type": "stream",
     "text": [
      "appyhay\n",
      "enterway\n"
     ]
    }
   ],
   "source": [
    "#Answer 6:\n",
    "def pig(a):\n",
    "    if(a[0]=='a'or a[0]=='e'or a[0]=='i'or a[0]=='o'or a[0]=='u'):  #checking first character in string\n",
    "        s=a+\"way\"                                  #logic\n",
    "        print(s.lower())                \n",
    "    else:\n",
    "        s=a[1:]+a[0]+\"ay\"\n",
    "        print(s.lower())\n",
    "pig(\"Happy\")\n",
    "pig(\"enter\")            \n",
    "\n",
    "  \n",
    " \n",
    " "
   ]
  },
  {
   "cell_type": "markdown",
   "id": "00abfe63",
   "metadata": {},
   "source": [
    "# Question 7 Python\n",
    "File bloodtype1.txt records blood-types of patients (A, B, AB, O or OO) at a clinic.\n",
    "Write a function bldcount() that reads the file with name name and reports (i.e.,\n",
    "prints) how many patients there are in each bloodtype.\n",
    ">>> bldcount('bloodtype.txt')\n",
    "There are 10 patients of blood type A.\n",
    "There is one patient of blood type B.\n",
    "There are 10 patients of blood type AB.\n",
    "There are 12 patients of blood type O.\n",
    "There are no patients of blood type OO.\n"
   ]
  },
  {
   "cell_type": "code",
   "execution_count": 10,
   "id": "d0858143",
   "metadata": {},
   "outputs": [
    {
     "name": "stdout",
     "output_type": "stream",
     "text": [
      "There are 15 patients of bloodtype A .\n",
      "There are one patients of bloodtype B .\n",
      "There are 13 patients of bloodtype AB .\n",
      "There are 15 patients of bloodtype O .\n",
      "There are no patients of bloodtype OO .\n"
     ]
    }
   ],
   "source": [
    "#Answer 7:\n",
    "def bldcount(file):                               #creating bldcount function\n",
    "    filename=open(file)                           #opening the file\n",
    "    data=filename.read()                           #reading the file\n",
    "    filename.close()                               #closing the file\n",
    "    data=data.split()                              # spliting the data \n",
    "    bloodtype=['A','B','AB','O','OO']              \n",
    "    for i in bloodtype:\n",
    "        if data.count(i)==0:                      \n",
    "            print(\"There are no patients of bloodtype\",i,\".\")\n",
    "        elif data.count(i)==1:\n",
    "            print(\"There are one patients of bloodtype\",i,\".\")\n",
    "        else:\n",
    "            print(\"There are\",data.count(i),\"patients of bloodtype\",i,\".\")\n",
    "    \n",
    "bldcount(\"bloodtype1.txt\")"
   ]
  },
  {
   "cell_type": "markdown",
   "id": "cd50f781",
   "metadata": {},
   "source": [
    "# Question 8 Python\n",
    "Write a function curconv() that takes as input:\n",
    "1. a currency represented using a string (e.g., 'JPY' for the Japanese Yen or\n",
    "'EUR' for the Euro)\n",
    "2. an amount\n",
    "and then converts and returns the amount in US dollars.\n",
    ">>> curconv('EUR', 100)\n",
    "122.96544\n",
    ">>> curconv('JPY', 100)\n",
    "1.241401\n",
    "The currency rates you will need are stored in file currencies.txt:"
   ]
  },
  {
   "cell_type": "code",
   "execution_count": 21,
   "id": "8b4989f6",
   "metadata": {},
   "outputs": [
    {
     "data": {
      "text/plain": [
       "122.96544"
      ]
     },
     "execution_count": 21,
     "metadata": {},
     "output_type": "execute_result"
    }
   ],
   "source": [
    "#Answer 8:\n",
    "def curconv(country,currency):                       #decalaring the curconv function \n",
    "    file=open(\"Currencies.txt\",'r')                  #opening the Currencies file and reading as well\n",
    "    filecontent=file.readlines()                     #Reading the content in the file\n",
    "    file.close()\n",
    "    for lines in filecontent:\n",
    "        if country==lines.split()[0]:                \n",
    "            return float (lines.split()[1])*currency\n",
    "   # cur=100*currency;\n",
    "   \n",
    "    \n",
    "#curconv(\"AD\",100)\n",
    "curconv(\"EUR\",100)"
   ]
  },
  {
   "cell_type": "markdown",
   "id": "24d7e9a2",
   "metadata": {},
   "source": [
    "# Question 9 A:\n",
    "Trying to add incompatible variables, as in\n",
    "adding 6 + ‘a’\n"
   ]
  },
  {
   "cell_type": "code",
   "execution_count": 1,
   "id": "a9274c2b",
   "metadata": {},
   "outputs": [
    {
     "ename": "TypeError",
     "evalue": "unsupported operand type(s) for +: 'int' and 'str'",
     "output_type": "error",
     "traceback": [
      "\u001b[1;31m---------------------------------------------------------------------------\u001b[0m",
      "\u001b[1;31mTypeError\u001b[0m                                 Traceback (most recent call last)",
      "\u001b[1;32mC:\\Users\\HPSSD~1\\AppData\\Local\\Temp/ipykernel_7308/276247706.py\u001b[0m in \u001b[0;36m<module>\u001b[1;34m\u001b[0m\n\u001b[1;32m----> 1\u001b[1;33m \u001b[0mx\u001b[0m\u001b[1;33m=\u001b[0m \u001b[1;36m6\u001b[0m \u001b[1;33m+\u001b[0m \u001b[1;34m'a'\u001b[0m\u001b[1;33m\u001b[0m\u001b[1;33m\u001b[0m\u001b[0m\n\u001b[0m\u001b[0;32m      2\u001b[0m \u001b[0mprint\u001b[0m\u001b[1;33m(\u001b[0m\u001b[0mx\u001b[0m\u001b[1;33m)\u001b[0m\u001b[1;33m\u001b[0m\u001b[1;33m\u001b[0m\u001b[0m\n",
      "\u001b[1;31mTypeError\u001b[0m: unsupported operand type(s) for +: 'int' and 'str'"
     ]
    }
   ],
   "source": [
    "#Answer 9 A:\n",
    "x= 6 + 'a'           #errors : unsupported operands\n",
    "print(x)"
   ]
  },
  {
   "cell_type": "markdown",
   "id": "133d24da",
   "metadata": {},
   "source": [
    "# Question 9 B: Referring to the 12th item of a list that has only 10\n",
    "items\n"
   ]
  },
  {
   "cell_type": "code",
   "execution_count": 21,
   "id": "e5ce8b4d",
   "metadata": {},
   "outputs": [
    {
     "ename": "IndexError",
     "evalue": "list index out of range",
     "output_type": "error",
     "traceback": [
      "\u001b[1;31m---------------------------------------------------------------------------\u001b[0m",
      "\u001b[1;31mIndexError\u001b[0m                                Traceback (most recent call last)",
      "\u001b[1;32mC:\\Users\\HPSSD~1\\AppData\\Local\\Temp/ipykernel_7308/1095287202.py\u001b[0m in \u001b[0;36m<module>\u001b[1;34m\u001b[0m\n\u001b[0;32m      1\u001b[0m \u001b[0mlist\u001b[0m\u001b[1;33m=\u001b[0m\u001b[1;33m[\u001b[0m\u001b[1;36m1\u001b[0m\u001b[1;33m,\u001b[0m\u001b[1;36m2\u001b[0m\u001b[1;33m,\u001b[0m\u001b[1;36m3\u001b[0m\u001b[1;33m,\u001b[0m\u001b[1;36m4\u001b[0m\u001b[1;33m,\u001b[0m\u001b[1;36m5\u001b[0m\u001b[1;33m,\u001b[0m\u001b[1;36m6\u001b[0m\u001b[1;33m,\u001b[0m\u001b[1;36m7\u001b[0m\u001b[1;33m,\u001b[0m\u001b[1;36m8\u001b[0m\u001b[1;33m,\u001b[0m\u001b[1;36m9\u001b[0m\u001b[1;33m,\u001b[0m\u001b[1;36m10\u001b[0m\u001b[1;33m]\u001b[0m\u001b[1;33m\u001b[0m\u001b[1;33m\u001b[0m\u001b[0m\n\u001b[1;32m----> 2\u001b[1;33m \u001b[0mprint\u001b[0m \u001b[1;33m(\u001b[0m\u001b[0mlist\u001b[0m\u001b[1;33m[\u001b[0m\u001b[1;36m12\u001b[0m\u001b[1;33m]\u001b[0m\u001b[1;33m)\u001b[0m\u001b[1;33m\u001b[0m\u001b[1;33m\u001b[0m\u001b[0m\n\u001b[0m",
      "\u001b[1;31mIndexError\u001b[0m: list index out of range"
     ]
    }
   ],
   "source": [
    "#Answer 9 B:\n",
    "list=[1,2,3,4,5,6,7,8,9,10]       #error: list index out of range\n",
    "print (list[12])\n"
   ]
  },
  {
   "cell_type": "markdown",
   "id": "19a14e42",
   "metadata": {},
   "source": [
    "# Question 9 C: Using a value that is out of range for a func"
   ]
  },
  {
   "cell_type": "code",
   "execution_count": 22,
   "id": "c5cf2667",
   "metadata": {},
   "outputs": [
    {
     "ename": "ValueError",
     "evalue": "math domain error",
     "output_type": "error",
     "traceback": [
      "\u001b[1;31m---------------------------------------------------------------------------\u001b[0m",
      "\u001b[1;31mValueError\u001b[0m                                Traceback (most recent call last)",
      "\u001b[1;32mC:\\Users\\HPSSD~1\\AppData\\Local\\Temp/ipykernel_7308/868611574.py\u001b[0m in \u001b[0;36m<module>\u001b[1;34m\u001b[0m\n\u001b[0;32m      1\u001b[0m \u001b[1;32mimport\u001b[0m \u001b[0mmath\u001b[0m\u001b[1;33m\u001b[0m\u001b[1;33m\u001b[0m\u001b[0m\n\u001b[1;32m----> 2\u001b[1;33m \u001b[0mprint\u001b[0m\u001b[1;33m(\u001b[0m \u001b[0mmath\u001b[0m\u001b[1;33m.\u001b[0m\u001b[0msqrt\u001b[0m\u001b[1;33m(\u001b[0m\u001b[1;33m-\u001b[0m\u001b[1;36m1.0\u001b[0m\u001b[1;33m)\u001b[0m\u001b[1;33m)\u001b[0m\u001b[1;33m\u001b[0m\u001b[1;33m\u001b[0m\u001b[0m\n\u001b[0m",
      "\u001b[1;31mValueError\u001b[0m: math domain error"
     ]
    }
   ],
   "source": [
    "#Answer 9 c:\n",
    "import math \n",
    "print( math.sqrt(-1.0))              #math domain error"
   ]
  },
  {
   "cell_type": "markdown",
   "id": "c6aa462c",
   "metadata": {},
   "source": [
    "# Question 9 D: Using an undeclared variable, such as print(x)\n",
    "when x has not been defined "
   ]
  },
  {
   "cell_type": "code",
   "execution_count": 23,
   "id": "f0b8d932",
   "metadata": {},
   "outputs": [
    {
     "ename": "NameError",
     "evalue": "name 'm' is not defined",
     "output_type": "error",
     "traceback": [
      "\u001b[1;31m---------------------------------------------------------------------------\u001b[0m",
      "\u001b[1;31mNameError\u001b[0m                                 Traceback (most recent call last)",
      "\u001b[1;32mC:\\Users\\HPSSD~1\\AppData\\Local\\Temp/ipykernel_7308/1419448855.py\u001b[0m in \u001b[0;36m<module>\u001b[1;34m\u001b[0m\n\u001b[0;32m      1\u001b[0m \u001b[0mx\u001b[0m\u001b[1;33m=\u001b[0m\u001b[1;36m10\u001b[0m\u001b[1;33m\u001b[0m\u001b[1;33m\u001b[0m\u001b[0m\n\u001b[1;32m----> 2\u001b[1;33m \u001b[0mprint\u001b[0m\u001b[1;33m(\u001b[0m\u001b[0mm\u001b[0m\u001b[1;33m)\u001b[0m\u001b[1;33m\u001b[0m\u001b[1;33m\u001b[0m\u001b[0m\n\u001b[0m",
      "\u001b[1;31mNameError\u001b[0m: name 'm' is not defined"
     ]
    }
   ],
   "source": [
    "# Answer 9 d:\n",
    "x=10\n",
    "print(m)             #error m is not defined"
   ]
  },
  {
   "cell_type": "markdown",
   "id": "0081b837",
   "metadata": {},
   "source": [
    "# Question 9 E: rying to open a file that does not exist, such as\n",
    "mistyping the file name or looking in the wrong\n",
    "directory. "
   ]
  },
  {
   "cell_type": "code",
   "execution_count": 1,
   "id": "9c022649",
   "metadata": {},
   "outputs": [
    {
     "ename": "FileNotFoundError",
     "evalue": "[Errno 2] No such file or directory: 'blood.txt'",
     "output_type": "error",
     "traceback": [
      "\u001b[1;31m---------------------------------------------------------------------------\u001b[0m",
      "\u001b[1;31mFileNotFoundError\u001b[0m                         Traceback (most recent call last)",
      "\u001b[1;32mC:\\Users\\HPSSD~1\\AppData\\Local\\Temp/ipykernel_3364/1601710333.py\u001b[0m in \u001b[0;36m<module>\u001b[1;34m\u001b[0m\n\u001b[1;32m----> 1\u001b[1;33m \u001b[0mfile\u001b[0m\u001b[1;33m=\u001b[0m\u001b[0mopen\u001b[0m\u001b[1;33m(\u001b[0m\u001b[1;34m\"blood.txt\"\u001b[0m\u001b[1;33m)\u001b[0m\u001b[1;33m\u001b[0m\u001b[1;33m\u001b[0m\u001b[0m\n\u001b[0m",
      "\u001b[1;31mFileNotFoundError\u001b[0m: [Errno 2] No such file or directory: 'blood.txt'"
     ]
    }
   ],
   "source": [
    "#Answer 9 E:\n",
    "file=open(\"blood.txt\")        #error: no such file or directory"
   ]
  },
  {
   "cell_type": "markdown",
   "id": "b4329a37",
   "metadata": {},
   "source": [
    "# Question 10 :Python\n",
    "Encryption is the process of hiding the meaning of a text by substituting letters in the\n",
    "message with other letters, according to some system. If the process is successful, no\n",
    "one but the intended recipient can understand the encrypted message. Cryptanalysis\n",
    "refers to attempts to undo the encryption, even if some details of the encryption are\n",
    "unknown (for example, if an encrypted message has been intercepted). The first step\n",
    "of cryptanalysis is often to build up a table of letter frequencies in the encrypted text.\n",
    "Assume that the string letters is already defined as\n",
    "'abcdefghijklmnopqrstuvwxyz'. Write a function called frequencies()\n",
    "that takes a string as its only parameter, and returns a list of integers, showing the\n",
    "number of times each character appears in the text. Your function may ignore any\n",
    "characters that are not in letters.\n",
    ">>> frequencies('The quick red fox got bored and went home.')\n",
    "[1, 1, 1, 3, 5, 1, 1, 2, 1, 0, 1, 0, 1, 2, 4, 0, 1, 2, 0, 2,\n",
    "1, 0, 1, 1, 0, 0]\n",
    ">>> frequencies('apple')"
   ]
  },
  {
   "cell_type": "code",
   "execution_count": 20,
   "id": "b9faeff1",
   "metadata": {},
   "outputs": [
    {
     "name": "stdout",
     "output_type": "stream",
     "text": [
      "[1, 1, 1, 1, 1, 1, 1, 1, 1, 1, 1, 1, 1, 1, 1, 1, 1, 1, 1, 1, 1, 1, 1, 1, 1, 1]\n",
      "[1, 0, 0, 0, 1, 0, 0, 0, 0, 0, 0, 1, 0, 0, 0, 2, 0, 0, 0, 0, 0, 0, 0, 0, 0, 0]\n",
      "[1, 0, 0, 1, 2, 0, 1, 1, 1, 0, 0, 0, 0, 2, 0, 1, 0, 0, 0, 0, 0, 0, 0, 0, 0, 0]\n",
      "[1, 1, 1, 3, 5, 1, 1, 2, 1, 0, 1, 0, 1, 2, 4, 0, 1, 2, 0, 2, 1, 0, 1, 1, 0, 0]\n"
     ]
    }
   ],
   "source": [
    "#Answer 10:\n",
    "def frequencies(data):\n",
    "    letters='abcdefghijklmnopqrstuvwxyz'     #given string\n",
    "    x=list(data)                    \n",
    "    count=0\n",
    "    mylist=[]                                # decalaring empty list for further use\n",
    "    for item in letters:\n",
    "        for content in data:                 # checking contents in the data\n",
    "            if item==content:\n",
    "                count=count+1\n",
    "        mylist.append(count)                 #putting elements in the list using append method\n",
    "        count=0\n",
    "    print(mylist)\n",
    "frequencies('abcdefghijklmnopqrstuvwxyz')\n",
    "frequencies('apple')\n",
    "frequencies('Mandeep Singh')\n",
    "frequencies('The quick red fox got bored and went home.')\n"
   ]
  },
  {
   "cell_type": "code",
   "execution_count": null,
   "id": "c90fc32d",
   "metadata": {},
   "outputs": [],
   "source": []
  }
 ],
 "metadata": {
  "kernelspec": {
   "display_name": "Python 3 (ipykernel)",
   "language": "python",
   "name": "python3"
  },
  "language_info": {
   "codemirror_mode": {
    "name": "ipython",
    "version": 3
   },
   "file_extension": ".py",
   "mimetype": "text/x-python",
   "name": "python",
   "nbconvert_exporter": "python",
   "pygments_lexer": "ipython3",
   "version": "3.9.7"
  }
 },
 "nbformat": 4,
 "nbformat_minor": 5
}
